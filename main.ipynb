{
 "cells": [
  {
   "cell_type": "code",
   "execution_count": 10,
   "id": "initial_id",
   "metadata": {
    "ExecuteTime": {
     "end_time": "2024-03-21T10:32:00.542215400Z",
     "start_time": "2024-03-21T10:32:00.526089200Z"
    },
    "collapsed": true
   },
   "outputs": [],
   "source": [
    "#import libraries\n",
    "\n",
    "import pandas as pd\n",
    "import numpy as np\n",
    "import matplotlib.pyplot as plt\n",
    "import seaborn as sns\n",
    "import tensorflow as tf\n",
    "from sklearn.metrics import classification_report\n",
    "from sklearn import metrics\n",
    "from sklearn import tree\n",
    "from sklearn.model_selection import train_test_split\n",
    "from sklearn.preprocessing import OneHotEncoder\n",
    "\n"
   ]
  },
  {
   "cell_type": "code",
   "execution_count": 11,
   "id": "5125a674efe7597f",
   "metadata": {
    "ExecuteTime": {
     "end_time": "2024-03-21T10:01:49.910146800Z",
     "start_time": "2024-03-21T10:01:49.887554Z"
    },
    "collapsed": false
   },
   "outputs": [],
   "source": [
    "#dataset is loaded into a pandas dataframe\n",
    "df = pd.read_csv(\"Crop_recommendation.csv\")"
   ]
  },
  {
   "cell_type": "code",
   "execution_count": 12,
   "id": "bbbb0293b02ea38b",
   "metadata": {
    "ExecuteTime": {
     "end_time": "2024-03-21T09:48:59.133870900Z",
     "start_time": "2024-03-21T09:48:59.116067900Z"
    },
    "collapsed": false
   },
   "outputs": [
    {
     "data": {
      "text/html": [
       "<div>\n",
       "<style scoped>\n",
       "    .dataframe tbody tr th:only-of-type {\n",
       "        vertical-align: middle;\n",
       "    }\n",
       "\n",
       "    .dataframe tbody tr th {\n",
       "        vertical-align: top;\n",
       "    }\n",
       "\n",
       "    .dataframe thead th {\n",
       "        text-align: right;\n",
       "    }\n",
       "</style>\n",
       "<table border=\"1\" class=\"dataframe\">\n",
       "  <thead>\n",
       "    <tr style=\"text-align: right;\">\n",
       "      <th></th>\n",
       "      <th>N</th>\n",
       "      <th>P</th>\n",
       "      <th>K</th>\n",
       "      <th>temperature</th>\n",
       "      <th>humidity</th>\n",
       "      <th>ph</th>\n",
       "      <th>rainfall</th>\n",
       "      <th>label</th>\n",
       "    </tr>\n",
       "  </thead>\n",
       "  <tbody>\n",
       "    <tr>\n",
       "      <th>0</th>\n",
       "      <td>90</td>\n",
       "      <td>42</td>\n",
       "      <td>43</td>\n",
       "      <td>20.879744</td>\n",
       "      <td>82.002744</td>\n",
       "      <td>6.502985</td>\n",
       "      <td>202.935536</td>\n",
       "      <td>rice</td>\n",
       "    </tr>\n",
       "    <tr>\n",
       "      <th>1</th>\n",
       "      <td>85</td>\n",
       "      <td>58</td>\n",
       "      <td>41</td>\n",
       "      <td>21.770462</td>\n",
       "      <td>80.319644</td>\n",
       "      <td>7.038096</td>\n",
       "      <td>226.655537</td>\n",
       "      <td>rice</td>\n",
       "    </tr>\n",
       "    <tr>\n",
       "      <th>2</th>\n",
       "      <td>60</td>\n",
       "      <td>55</td>\n",
       "      <td>44</td>\n",
       "      <td>23.004459</td>\n",
       "      <td>82.320763</td>\n",
       "      <td>7.840207</td>\n",
       "      <td>263.964248</td>\n",
       "      <td>rice</td>\n",
       "    </tr>\n",
       "    <tr>\n",
       "      <th>3</th>\n",
       "      <td>74</td>\n",
       "      <td>35</td>\n",
       "      <td>40</td>\n",
       "      <td>26.491096</td>\n",
       "      <td>80.158363</td>\n",
       "      <td>6.980401</td>\n",
       "      <td>242.864034</td>\n",
       "      <td>rice</td>\n",
       "    </tr>\n",
       "    <tr>\n",
       "      <th>4</th>\n",
       "      <td>78</td>\n",
       "      <td>42</td>\n",
       "      <td>42</td>\n",
       "      <td>20.130175</td>\n",
       "      <td>81.604873</td>\n",
       "      <td>7.628473</td>\n",
       "      <td>262.717340</td>\n",
       "      <td>rice</td>\n",
       "    </tr>\n",
       "  </tbody>\n",
       "</table>\n",
       "</div>"
      ],
      "text/plain": [
       "    N   P   K  temperature   humidity        ph    rainfall label\n",
       "0  90  42  43    20.879744  82.002744  6.502985  202.935536  rice\n",
       "1  85  58  41    21.770462  80.319644  7.038096  226.655537  rice\n",
       "2  60  55  44    23.004459  82.320763  7.840207  263.964248  rice\n",
       "3  74  35  40    26.491096  80.158363  6.980401  242.864034  rice\n",
       "4  78  42  42    20.130175  81.604873  7.628473  262.717340  rice"
      ]
     },
     "execution_count": 12,
     "metadata": {},
     "output_type": "execute_result"
    }
   ],
   "source": [
    "#Data Preprocessing\n",
    "df.head()"
   ]
  },
  {
   "cell_type": "code",
   "execution_count": 13,
   "id": "12f7410c90a4cd99",
   "metadata": {
    "ExecuteTime": {
     "end_time": "2024-03-21T09:49:01.105739800Z",
     "start_time": "2024-03-21T09:49:01.094510300Z"
    },
    "collapsed": false
   },
   "outputs": [
    {
     "data": {
      "text/plain": [
       "(2200, 8)"
      ]
     },
     "execution_count": 13,
     "metadata": {},
     "output_type": "execute_result"
    }
   ],
   "source": [
    "df.shape"
   ]
  },
  {
   "cell_type": "code",
   "execution_count": 14,
   "id": "c3044087043675f6",
   "metadata": {
    "ExecuteTime": {
     "end_time": "2024-03-21T09:49:40.459985Z",
     "start_time": "2024-03-21T09:49:40.449998200Z"
    },
    "collapsed": false
   },
   "outputs": [
    {
     "data": {
      "text/plain": [
       "N                int64\n",
       "P                int64\n",
       "K                int64\n",
       "temperature    float64\n",
       "humidity       float64\n",
       "ph             float64\n",
       "rainfall       float64\n",
       "label           object\n",
       "dtype: object"
      ]
     },
     "execution_count": 14,
     "metadata": {},
     "output_type": "execute_result"
    }
   ],
   "source": [
    "df.dtypes"
   ]
  },
  {
   "cell_type": "code",
   "execution_count": 15,
   "id": "d08d1fa67d741806",
   "metadata": {
    "ExecuteTime": {
     "end_time": "2024-03-21T10:08:38.969620900Z",
     "start_time": "2024-03-21T10:08:38.964592500Z"
    },
    "collapsed": false
   },
   "outputs": [],
   "source": [
    "#splitting the data\n",
    "X = df.drop(\"label\", axis=1)\n",
    "y = df[\"label\"]\n"
   ]
  },
  {
   "cell_type": "code",
   "execution_count": 16,
   "id": "bd6d63b02705a7c1",
   "metadata": {
    "ExecuteTime": {
     "end_time": "2024-03-21T10:08:39.845836800Z",
     "start_time": "2024-03-21T10:08:39.839721900Z"
    },
    "collapsed": false
   },
   "outputs": [
    {
     "name": "stdout",
     "output_type": "stream",
     "text": [
      "    N   P   K  temperature   humidity        ph    rainfall\n",
      "0  90  42  43    20.879744  82.002744  6.502985  202.935536\n",
      "1  85  58  41    21.770462  80.319644  7.038096  226.655537\n",
      "2  60  55  44    23.004459  82.320763  7.840207  263.964248\n",
      "3  74  35  40    26.491096  80.158363  6.980401  242.864034\n",
      "4  78  42  42    20.130175  81.604873  7.628473  262.717340\n",
      "0    rice\n",
      "1    rice\n",
      "2    rice\n",
      "3    rice\n",
      "4    rice\n",
      "Name: label, dtype: object\n"
     ]
    }
   ],
   "source": [
    "print(X.head())\n",
    "print(y.head())"
   ]
  },
  {
   "cell_type": "code",
   "execution_count": 17,
   "id": "bd9a808d50a96455",
   "metadata": {
    "ExecuteTime": {
     "end_time": "2024-03-21T10:13:27.595083700Z",
     "start_time": "2024-03-21T10:13:27.584826Z"
    },
    "collapsed": false
   },
   "outputs": [
    {
     "name": "stdout",
     "output_type": "stream",
     "text": [
      "[[0. 0. 0. ... 0. 1. 0.]\n",
      " [0. 0. 0. ... 0. 1. 0.]\n",
      " [0. 0. 0. ... 0. 1. 0.]\n",
      " ...\n",
      " [0. 0. 0. ... 0. 0. 0.]\n",
      " [0. 0. 0. ... 0. 0. 0.]\n",
      " [0. 0. 0. ... 0. 0. 0.]]\n"
     ]
    }
   ],
   "source": [
    "#One Hot Encoding the target variable\n",
    "enc = OneHotEncoder()\n",
    "y_oh = enc.fit_transform(y.values.reshape(-1,1)).toarray()\n",
    "print(y_oh)"
   ]
  },
  {
   "cell_type": "code",
   "execution_count": 18,
   "id": "cb5da500dee30439",
   "metadata": {
    "ExecuteTime": {
     "end_time": "2024-03-21T10:13:54.489174Z",
     "start_time": "2024-03-21T10:13:54.487782500Z"
    },
    "collapsed": false
   },
   "outputs": [
    {
     "name": "stdout",
     "output_type": "stream",
     "text": [
      "[[0. 0. 0. ... 0. 1. 0.]\n",
      " [0. 0. 0. ... 0. 1. 0.]\n",
      " [0. 0. 0. ... 0. 1. 0.]\n",
      " ...\n",
      " [0. 0. 0. ... 0. 0. 0.]\n",
      " [0. 0. 0. ... 0. 0. 0.]\n",
      " [0. 0. 0. ... 0. 0. 0.]]\n"
     ]
    }
   ],
   "source": [
    "y = y_oh\n",
    "print(y)"
   ]
  },
  {
   "cell_type": "code",
   "execution_count": 19,
   "id": "2e6359fedc7d002e",
   "metadata": {
    "ExecuteTime": {
     "end_time": "2024-03-21T10:19:31.811769600Z",
     "start_time": "2024-03-21T10:19:31.776175100Z"
    },
    "collapsed": false
   },
   "outputs": [],
   "source": [
    "#Splitting the data into training, validation and testing sets\n",
    "X_train, X_test, y_train, y_test = train_test_split(X, y, test_size=0.3, random_state=42,stratify=y)\n",
    "X_val, X_test, y_val, y_test = train_test_split(X_test, y_test, test_size=0.5, random_state=42,stratify=y_test)"
   ]
  },
  {
   "cell_type": "code",
   "execution_count": 20,
   "id": "c9f413a91b37982c",
   "metadata": {
    "ExecuteTime": {
     "end_time": "2024-03-21T10:19:57.002053900Z",
     "start_time": "2024-03-21T10:19:56.990525500Z"
    },
    "collapsed": false
   },
   "outputs": [
    {
     "name": "stdout",
     "output_type": "stream",
     "text": [
      "X_train shape:  (1540, 7)\n",
      "X_val shape:  (330, 7)\n",
      "X_test shape:  (330, 7)\n",
      "y_train shape:  (1540, 22)\n",
      "y_val shape:  (330, 22)\n",
      "y_test shape:  (330, 22)\n"
     ]
    }
   ],
   "source": [
    "print('X_train shape: ', X_train.shape)\n",
    "print('X_val shape: ', X_val.shape)\n",
    "print('X_test shape: ', X_test.shape)\n",
    "print('y_train shape: ', y_train.shape)\n",
    "print('y_val shape: ', y_val.shape)\n",
    "print('y_test shape: ', y_test.shape)"
   ]
  },
  {
   "cell_type": "code",
   "execution_count": 21,
   "id": "1d4da71677d260b2",
   "metadata": {
    "ExecuteTime": {
     "end_time": "2024-03-21T10:20:13.417796400Z",
     "start_time": "2024-03-21T10:20:13.406586500Z"
    },
    "collapsed": false
   },
   "outputs": [
    {
     "name": "stdout",
     "output_type": "stream",
     "text": [
      "output shape:  22\n",
      "input shape:  (7,)\n"
     ]
    }
   ],
   "source": [
    "output_shape = y_train.shape[1]\n",
    "input_shape = (X_train.shape[1], )\n",
    "\n",
    "print('output shape: ', output_shape)\n",
    "print('input shape: ', input_shape)"
   ]
  },
  {
   "cell_type": "code",
   "execution_count": 22,
   "id": "ceaaf282665a4f11",
   "metadata": {
    "ExecuteTime": {
     "end_time": "2024-03-21T10:28:05.269088Z",
     "start_time": "2024-03-21T10:28:05.262069Z"
    },
    "collapsed": false
   },
   "outputs": [],
   "source": [
    "# initialize a deep neural network model with 3 hidden layers of 1024 neurons each and relu activation function\n",
    "def build_model(input_shape, output_shape, seed = 69):\n",
    "  tf.random.set_seed(seed)\n",
    "  model = tf.keras.Sequential([\n",
    "                             tf.keras.layers.Dense(1024, activation='relu', input_shape=input_shape),\n",
    "                             tf.keras.layers.Dense(1024, activation='relu'),\n",
    "                             tf.keras.layers.Dense(1024, activation='relu'),\n",
    "                             tf.keras.layers.Dense(output_shape, activation= 'softmax')])\n",
    "\n",
    "\n",
    "  optimizer = tf.keras.optimizers.RMSprop()\n",
    "  loss = tf.keras.losses.BinaryCrossentropy(from_logits = False)\n",
    "  metrics = ['accuracy']\n",
    "\n",
    "  model.compile(optimizer=optimizer, loss=loss, metrics=metrics)\n",
    "\n",
    "  return model\n"
   ]
  },
  {
   "cell_type": "code",
   "execution_count": null,
   "id": "155473924ab6d6f3",
   "metadata": {
    "ExecuteTime": {
     "end_time": "2024-03-21T10:28:06.029931600Z",
     "start_time": "2024-03-21T10:28:05.954547700Z"
    },
    "collapsed": false
   },
   "outputs": [],
   "source": [
    "model = build_model(input_shape, output_shape)\n",
    "model.summary()"
   ]
  },
  {
   "cell_type": "code",
   "execution_count": 24,
   "id": "5615459b16903753",
   "metadata": {
    "ExecuteTime": {
     "end_time": "2024-03-21T10:30:28.802108200Z",
     "start_time": "2024-03-21T10:30:02.116775100Z"
    },
    "collapsed": false
   },
   "outputs": [
    {
     "name": "stdout",
     "output_type": "stream",
     "text": [
      "Epoch 1/200\n",
      "\u001b[1m49/49\u001b[0m \u001b[32m━━━━━━━━━━━━━━━━━━━━\u001b[0m\u001b[37m\u001b[0m \u001b[1m2s\u001b[0m 19ms/step - accuracy: 0.2784 - loss: 0.9204 - val_accuracy: 0.4364 - val_loss: 0.1765 - learning_rate: 0.0010\n",
      "Epoch 2/200\n",
      "\u001b[1m49/49\u001b[0m \u001b[32m━━━━━━━━━━━━━━━━━━━━\u001b[0m\u001b[37m\u001b[0m \u001b[1m1s\u001b[0m 16ms/step - accuracy: 0.6553 - loss: 0.0999 - val_accuracy: 0.7061 - val_loss: 0.1271 - learning_rate: 0.0010\n",
      "Epoch 3/200\n",
      "\u001b[1m49/49\u001b[0m \u001b[32m━━━━━━━━━━━━━━━━━━━━\u001b[0m\u001b[37m\u001b[0m \u001b[1m1s\u001b[0m 15ms/step - accuracy: 0.7661 - loss: 0.0687 - val_accuracy: 0.7758 - val_loss: 0.1080 - learning_rate: 0.0010\n",
      "Epoch 4/200\n",
      "\u001b[1m49/49\u001b[0m \u001b[32m━━━━━━━━━━━━━━━━━━━━\u001b[0m\u001b[37m\u001b[0m \u001b[1m1s\u001b[0m 16ms/step - accuracy: 0.8455 - loss: 0.0473 - val_accuracy: 0.8121 - val_loss: 0.0915 - learning_rate: 0.0010\n",
      "Epoch 5/200\n",
      "\u001b[1m49/49\u001b[0m \u001b[32m━━━━━━━━━━━━━━━━━━━━\u001b[0m\u001b[37m\u001b[0m \u001b[1m1s\u001b[0m 17ms/step - accuracy: 0.8843 - loss: 0.0383 - val_accuracy: 0.8333 - val_loss: 0.0760 - learning_rate: 0.0010\n",
      "Epoch 6/200\n",
      "\u001b[1m49/49\u001b[0m \u001b[32m━━━━━━━━━━━━━━━━━━━━\u001b[0m\u001b[37m\u001b[0m \u001b[1m1s\u001b[0m 16ms/step - accuracy: 0.8967 - loss: 0.0318 - val_accuracy: 0.8364 - val_loss: 0.0684 - learning_rate: 0.0010\n",
      "Epoch 7/200\n",
      "\u001b[1m49/49\u001b[0m \u001b[32m━━━━━━━━━━━━━━━━━━━━\u001b[0m\u001b[37m\u001b[0m \u001b[1m1s\u001b[0m 16ms/step - accuracy: 0.9121 - loss: 0.0289 - val_accuracy: 0.8636 - val_loss: 0.0603 - learning_rate: 0.0010\n",
      "Epoch 8/200\n",
      "\u001b[1m49/49\u001b[0m \u001b[32m━━━━━━━━━━━━━━━━━━━━\u001b[0m\u001b[37m\u001b[0m \u001b[1m1s\u001b[0m 15ms/step - accuracy: 0.9200 - loss: 0.0253 - val_accuracy: 0.8515 - val_loss: 0.0680 - learning_rate: 0.0010\n",
      "Epoch 9/200\n",
      "\u001b[1m49/49\u001b[0m \u001b[32m━━━━━━━━━━━━━━━━━━━━\u001b[0m\u001b[37m\u001b[0m \u001b[1m1s\u001b[0m 16ms/step - accuracy: 0.9254 - loss: 0.0244 - val_accuracy: 0.8394 - val_loss: 0.0678 - learning_rate: 0.0010\n",
      "Epoch 10/200\n",
      "\u001b[1m49/49\u001b[0m \u001b[32m━━━━━━━━━━━━━━━━━━━━\u001b[0m\u001b[37m\u001b[0m \u001b[1m1s\u001b[0m 15ms/step - accuracy: 0.9263 - loss: 0.0248 - val_accuracy: 0.8515 - val_loss: 0.0578 - learning_rate: 0.0010\n",
      "Epoch 11/200\n",
      "\u001b[1m49/49\u001b[0m \u001b[32m━━━━━━━━━━━━━━━━━━━━\u001b[0m\u001b[37m\u001b[0m \u001b[1m1s\u001b[0m 15ms/step - accuracy: 0.9274 - loss: 0.0207 - val_accuracy: 0.9091 - val_loss: 0.0340 - learning_rate: 0.0010\n",
      "Epoch 12/200\n",
      "\u001b[1m49/49\u001b[0m \u001b[32m━━━━━━━━━━━━━━━━━━━━\u001b[0m\u001b[37m\u001b[0m \u001b[1m1s\u001b[0m 15ms/step - accuracy: 0.9433 - loss: 0.0163 - val_accuracy: 0.8818 - val_loss: 0.0508 - learning_rate: 0.0010\n",
      "Epoch 13/200\n",
      "\u001b[1m49/49\u001b[0m \u001b[32m━━━━━━━━━━━━━━━━━━━━\u001b[0m\u001b[37m\u001b[0m \u001b[1m1s\u001b[0m 15ms/step - accuracy: 0.9384 - loss: 0.0182 - val_accuracy: 0.8758 - val_loss: 0.0494 - learning_rate: 0.0010\n",
      "Epoch 14/200\n",
      "\u001b[1m49/49\u001b[0m \u001b[32m━━━━━━━━━━━━━━━━━━━━\u001b[0m\u001b[37m\u001b[0m \u001b[1m1s\u001b[0m 15ms/step - accuracy: 0.9300 - loss: 0.0188 - val_accuracy: 0.8758 - val_loss: 0.0389 - learning_rate: 0.0010\n",
      "Epoch 15/200\n",
      "\u001b[1m49/49\u001b[0m \u001b[32m━━━━━━━━━━━━━━━━━━━━\u001b[0m\u001b[37m\u001b[0m \u001b[1m1s\u001b[0m 16ms/step - accuracy: 0.9383 - loss: 0.0163 - val_accuracy: 0.8606 - val_loss: 0.0519 - learning_rate: 0.0010\n",
      "Epoch 16/200\n",
      "\u001b[1m45/49\u001b[0m \u001b[32m━━━━━━━━━━━━━━━━━━\u001b[0m\u001b[37m━━\u001b[0m \u001b[1m0s\u001b[0m 13ms/step - accuracy: 0.9335 - loss: 0.0172\n",
      "Epoch 16: ReduceLROnPlateau reducing learning rate to 0.00010000000474974513.\n",
      "\u001b[1m49/49\u001b[0m \u001b[32m━━━━━━━━━━━━━━━━━━━━\u001b[0m\u001b[37m\u001b[0m \u001b[1m1s\u001b[0m 15ms/step - accuracy: 0.9347 - loss: 0.0168 - val_accuracy: 0.8848 - val_loss: 0.0421 - learning_rate: 0.0010\n",
      "Epoch 17/200\n",
      "\u001b[1m49/49\u001b[0m \u001b[32m━━━━━━━━━━━━━━━━━━━━\u001b[0m\u001b[37m\u001b[0m \u001b[1m1s\u001b[0m 15ms/step - accuracy: 0.9197 - loss: 0.0247 - val_accuracy: 0.9606 - val_loss: 0.0093 - learning_rate: 1.0000e-04\n",
      "Epoch 18/200\n",
      "\u001b[1m49/49\u001b[0m \u001b[32m━━━━━━━━━━━━━━━━━━━━\u001b[0m\u001b[37m\u001b[0m \u001b[1m1s\u001b[0m 15ms/step - accuracy: 0.9649 - loss: 0.0077 - val_accuracy: 0.9667 - val_loss: 0.0083 - learning_rate: 1.0000e-04\n",
      "Epoch 19/200\n",
      "\u001b[1m49/49\u001b[0m \u001b[32m━━━━━━━━━━━━━━━━━━━━\u001b[0m\u001b[37m\u001b[0m \u001b[1m1s\u001b[0m 15ms/step - accuracy: 0.9676 - loss: 0.0067 - val_accuracy: 0.9667 - val_loss: 0.0078 - learning_rate: 1.0000e-04\n",
      "Epoch 20/200\n",
      "\u001b[1m49/49\u001b[0m \u001b[32m━━━━━━━━━━━━━━━━━━━━\u001b[0m\u001b[37m\u001b[0m \u001b[1m1s\u001b[0m 15ms/step - accuracy: 0.9704 - loss: 0.0063 - val_accuracy: 0.9697 - val_loss: 0.0076 - learning_rate: 1.0000e-04\n",
      "Epoch 21/200\n",
      "\u001b[1m49/49\u001b[0m \u001b[32m━━━━━━━━━━━━━━━━━━━━\u001b[0m\u001b[37m\u001b[0m \u001b[1m1s\u001b[0m 15ms/step - accuracy: 0.9726 - loss: 0.0060 - val_accuracy: 0.9697 - val_loss: 0.0075 - learning_rate: 1.0000e-04\n",
      "Epoch 22/200\n",
      "\u001b[1m49/49\u001b[0m \u001b[32m━━━━━━━━━━━━━━━━━━━━\u001b[0m\u001b[37m\u001b[0m \u001b[1m1s\u001b[0m 15ms/step - accuracy: 0.9737 - loss: 0.0058 - val_accuracy: 0.9758 - val_loss: 0.0074 - learning_rate: 1.0000e-04\n",
      "Epoch 23/200\n",
      "\u001b[1m49/49\u001b[0m \u001b[32m━━━━━━━━━━━━━━━━━━━━\u001b[0m\u001b[37m\u001b[0m \u001b[1m1s\u001b[0m 16ms/step - accuracy: 0.9737 - loss: 0.0056 - val_accuracy: 0.9758 - val_loss: 0.0074 - learning_rate: 1.0000e-04\n",
      "Epoch 24/200\n",
      "\u001b[1m49/49\u001b[0m \u001b[32m━━━━━━━━━━━━━━━━━━━━\u001b[0m\u001b[37m\u001b[0m \u001b[1m1s\u001b[0m 15ms/step - accuracy: 0.9744 - loss: 0.0055 - val_accuracy: 0.9758 - val_loss: 0.0074 - learning_rate: 1.0000e-04\n",
      "Epoch 25/200\n",
      "\u001b[1m49/49\u001b[0m \u001b[32m━━━━━━━━━━━━━━━━━━━━\u001b[0m\u001b[37m\u001b[0m \u001b[1m1s\u001b[0m 14ms/step - accuracy: 0.9748 - loss: 0.0054 - val_accuracy: 0.9758 - val_loss: 0.0073 - learning_rate: 1.0000e-04\n",
      "Epoch 26/200\n",
      "\u001b[1m49/49\u001b[0m \u001b[32m━━━━━━━━━━━━━━━━━━━━\u001b[0m\u001b[37m\u001b[0m \u001b[1m1s\u001b[0m 14ms/step - accuracy: 0.9752 - loss: 0.0053 - val_accuracy: 0.9758 - val_loss: 0.0073 - learning_rate: 1.0000e-04\n",
      "Epoch 27/200\n",
      "\u001b[1m49/49\u001b[0m \u001b[32m━━━━━━━━━━━━━━━━━━━━\u001b[0m\u001b[37m\u001b[0m \u001b[1m1s\u001b[0m 14ms/step - accuracy: 0.9790 - loss: 0.0052 - val_accuracy: 0.9758 - val_loss: 0.0073 - learning_rate: 1.0000e-04\n",
      "Epoch 28/200\n",
      "\u001b[1m49/49\u001b[0m \u001b[32m━━━━━━━━━━━━━━━━━━━━\u001b[0m\u001b[37m\u001b[0m \u001b[1m1s\u001b[0m 14ms/step - accuracy: 0.9796 - loss: 0.0051 - val_accuracy: 0.9758 - val_loss: 0.0073 - learning_rate: 1.0000e-04\n",
      "Epoch 29/200\n",
      "\u001b[1m49/49\u001b[0m \u001b[32m━━━━━━━━━━━━━━━━━━━━\u001b[0m\u001b[37m\u001b[0m \u001b[1m1s\u001b[0m 15ms/step - accuracy: 0.9796 - loss: 0.0050 - val_accuracy: 0.9758 - val_loss: 0.0073 - learning_rate: 1.0000e-04\n",
      "Epoch 30/200\n",
      "\u001b[1m45/49\u001b[0m \u001b[32m━━━━━━━━━━━━━━━━━━\u001b[0m\u001b[37m━━\u001b[0m \u001b[1m0s\u001b[0m 13ms/step - accuracy: 0.9803 - loss: 0.0050\n",
      "Epoch 30: ReduceLROnPlateau reducing learning rate to 1.0000000474974514e-05.\n",
      "\u001b[1m49/49\u001b[0m \u001b[32m━━━━━━━━━━━━━━━━━━━━\u001b[0m\u001b[37m\u001b[0m \u001b[1m1s\u001b[0m 15ms/step - accuracy: 0.9804 - loss: 0.0050 - val_accuracy: 0.9758 - val_loss: 0.0073 - learning_rate: 1.0000e-04\n",
      "Epoch 31/200\n",
      "\u001b[1m49/49\u001b[0m \u001b[32m━━━━━━━━━━━━━━━━━━━━\u001b[0m\u001b[37m\u001b[0m \u001b[1m1s\u001b[0m 14ms/step - accuracy: 0.9796 - loss: 0.0047 - val_accuracy: 0.9788 - val_loss: 0.0073 - learning_rate: 1.0000e-05\n",
      "Epoch 32/200\n",
      "\u001b[1m49/49\u001b[0m \u001b[32m━━━━━━━━━━━━━━━━━━━━\u001b[0m\u001b[37m\u001b[0m \u001b[1m1s\u001b[0m 15ms/step - accuracy: 0.9804 - loss: 0.0046 - val_accuracy: 0.9788 - val_loss: 0.0073 - learning_rate: 1.0000e-05\n",
      "Epoch 33/200\n",
      "\u001b[1m49/49\u001b[0m \u001b[32m━━━━━━━━━━━━━━━━━━━━\u001b[0m\u001b[37m\u001b[0m \u001b[1m1s\u001b[0m 15ms/step - accuracy: 0.9801 - loss: 0.0046 - val_accuracy: 0.9788 - val_loss: 0.0073 - learning_rate: 1.0000e-05\n",
      "Epoch 34/200\n",
      "\u001b[1m49/49\u001b[0m \u001b[32m━━━━━━━━━━━━━━━━━━━━\u001b[0m\u001b[37m\u001b[0m \u001b[1m1s\u001b[0m 15ms/step - accuracy: 0.9801 - loss: 0.0045 - val_accuracy: 0.9788 - val_loss: 0.0073 - learning_rate: 1.0000e-05\n",
      "Epoch 35/200\n",
      "\u001b[1m46/49\u001b[0m \u001b[32m━━━━━━━━━━━━━━━━━━\u001b[0m\u001b[37m━━\u001b[0m \u001b[1m0s\u001b[0m 13ms/step - accuracy: 0.9799 - loss: 0.0045\n",
      "Epoch 35: ReduceLROnPlateau reducing learning rate to 1.0000000656873453e-06.\n",
      "\u001b[1m49/49\u001b[0m \u001b[32m━━━━━━━━━━━━━━━━━━━━\u001b[0m\u001b[37m\u001b[0m \u001b[1m1s\u001b[0m 15ms/step - accuracy: 0.9801 - loss: 0.0045 - val_accuracy: 0.9758 - val_loss: 0.0073 - learning_rate: 1.0000e-05\n",
      "Epoch 36/200\n",
      "\u001b[1m49/49\u001b[0m \u001b[32m━━━━━━━━━━━━━━━━━━━━\u001b[0m\u001b[37m\u001b[0m \u001b[1m1s\u001b[0m 15ms/step - accuracy: 0.9804 - loss: 0.0045 - val_accuracy: 0.9758 - val_loss: 0.0073 - learning_rate: 1.0000e-06\n",
      "Epoch 37/200\n",
      "\u001b[1m49/49\u001b[0m \u001b[32m━━━━━━━━━━━━━━━━━━━━\u001b[0m\u001b[37m\u001b[0m \u001b[1m1s\u001b[0m 15ms/step - accuracy: 0.9804 - loss: 0.0045 - val_accuracy: 0.9758 - val_loss: 0.0073 - learning_rate: 1.0000e-06\n",
      "Epoch 38/200\n",
      "\u001b[1m49/49\u001b[0m \u001b[32m━━━━━━━━━━━━━━━━━━━━\u001b[0m\u001b[37m\u001b[0m \u001b[1m1s\u001b[0m 15ms/step - accuracy: 0.9804 - loss: 0.0045 - val_accuracy: 0.9758 - val_loss: 0.0073 - learning_rate: 1.0000e-06\n",
      "Epoch 39/200\n",
      "\u001b[1m49/49\u001b[0m \u001b[32m━━━━━━━━━━━━━━━━━━━━\u001b[0m\u001b[37m\u001b[0m \u001b[1m1s\u001b[0m 15ms/step - accuracy: 0.9804 - loss: 0.0045 - val_accuracy: 0.9758 - val_loss: 0.0073 - learning_rate: 1.0000e-06\n",
      "Epoch 40/200\n",
      "\u001b[1m47/49\u001b[0m \u001b[32m━━━━━━━━━━━━━━━━━━━\u001b[0m\u001b[37m━\u001b[0m \u001b[1m0s\u001b[0m 13ms/step - accuracy: 0.9803 - loss: 0.0045\n",
      "Epoch 40: ReduceLROnPlateau reducing learning rate to 1.0000001111620805e-07.\n",
      "\u001b[1m49/49\u001b[0m \u001b[32m━━━━━━━━━━━━━━━━━━━━\u001b[0m\u001b[37m\u001b[0m \u001b[1m1s\u001b[0m 15ms/step - accuracy: 0.9804 - loss: 0.0045 - val_accuracy: 0.9758 - val_loss: 0.0073 - learning_rate: 1.0000e-06\n",
      "Epoch 41/200\n",
      "\u001b[1m49/49\u001b[0m \u001b[32m━━━━━━━━━━━━━━━━━━━━\u001b[0m\u001b[37m\u001b[0m \u001b[1m1s\u001b[0m 14ms/step - accuracy: 0.9804 - loss: 0.0044 - val_accuracy: 0.9758 - val_loss: 0.0073 - learning_rate: 1.0000e-07\n",
      "Epoch 42/200\n",
      "\u001b[1m49/49\u001b[0m \u001b[32m━━━━━━━━━━━━━━━━━━━━\u001b[0m\u001b[37m\u001b[0m \u001b[1m1s\u001b[0m 16ms/step - accuracy: 0.9804 - loss: 0.0044 - val_accuracy: 0.9758 - val_loss: 0.0073 - learning_rate: 1.0000e-07\n",
      "Epoch 43/200\n",
      "\u001b[1m49/49\u001b[0m \u001b[32m━━━━━━━━━━━━━━━━━━━━\u001b[0m\u001b[37m\u001b[0m \u001b[1m1s\u001b[0m 15ms/step - accuracy: 0.9804 - loss: 0.0044 - val_accuracy: 0.9758 - val_loss: 0.0073 - learning_rate: 1.0000e-07\n",
      "Epoch 44/200\n",
      "\u001b[1m49/49\u001b[0m \u001b[32m━━━━━━━━━━━━━━━━━━━━\u001b[0m\u001b[37m\u001b[0m \u001b[1m1s\u001b[0m 15ms/step - accuracy: 0.9804 - loss: 0.0044 - val_accuracy: 0.9758 - val_loss: 0.0073 - learning_rate: 1.0000e-07\n",
      "Epoch 45/200\n",
      "\u001b[1m47/49\u001b[0m \u001b[32m━━━━━━━━━━━━━━━━━━━\u001b[0m\u001b[37m━\u001b[0m \u001b[1m0s\u001b[0m 13ms/step - accuracy: 0.9803 - loss: 0.0044\n",
      "Epoch 45: ReduceLROnPlateau reducing learning rate to 1.000000082740371e-08.\n",
      "\u001b[1m49/49\u001b[0m \u001b[32m━━━━━━━━━━━━━━━━━━━━\u001b[0m\u001b[37m\u001b[0m \u001b[1m1s\u001b[0m 15ms/step - accuracy: 0.9804 - loss: 0.0044 - val_accuracy: 0.9758 - val_loss: 0.0073 - learning_rate: 1.0000e-07\n",
      "Epoch 46/200\n",
      "\u001b[1m49/49\u001b[0m \u001b[32m━━━━━━━━━━━━━━━━━━━━\u001b[0m\u001b[37m\u001b[0m \u001b[1m1s\u001b[0m 15ms/step - accuracy: 0.9804 - loss: 0.0044 - val_accuracy: 0.9758 - val_loss: 0.0073 - learning_rate: 1.0000e-08\n",
      "Epoch 47/200\n",
      "\u001b[1m49/49\u001b[0m \u001b[32m━━━━━━━━━━━━━━━━━━━━\u001b[0m\u001b[37m\u001b[0m \u001b[1m1s\u001b[0m 15ms/step - accuracy: 0.9804 - loss: 0.0044 - val_accuracy: 0.9758 - val_loss: 0.0073 - learning_rate: 1.0000e-08\n",
      "Epoch 48/200\n",
      "\u001b[1m49/49\u001b[0m \u001b[32m━━━━━━━━━━━━━━━━━━━━\u001b[0m\u001b[37m\u001b[0m \u001b[1m1s\u001b[0m 14ms/step - accuracy: 0.9804 - loss: 0.0044 - val_accuracy: 0.9758 - val_loss: 0.0073 - learning_rate: 1.0000e-08\n",
      "Epoch 49/200\n",
      "\u001b[1m49/49\u001b[0m \u001b[32m━━━━━━━━━━━━━━━━━━━━\u001b[0m\u001b[37m\u001b[0m \u001b[1m1s\u001b[0m 14ms/step - accuracy: 0.9804 - loss: 0.0044 - val_accuracy: 0.9758 - val_loss: 0.0073 - learning_rate: 1.0000e-08\n",
      "Epoch 50/200\n",
      "\u001b[1m46/49\u001b[0m \u001b[32m━━━━━━━━━━━━━━━━━━\u001b[0m\u001b[37m━━\u001b[0m \u001b[1m0s\u001b[0m 14ms/step - accuracy: 0.9802 - loss: 0.0044\n",
      "Epoch 50: ReduceLROnPlateau reducing learning rate to 1.000000082740371e-09.\n",
      "\u001b[1m49/49\u001b[0m \u001b[32m━━━━━━━━━━━━━━━━━━━━\u001b[0m\u001b[37m\u001b[0m \u001b[1m1s\u001b[0m 16ms/step - accuracy: 0.9804 - loss: 0.0044 - val_accuracy: 0.9758 - val_loss: 0.0073 - learning_rate: 1.0000e-08\n",
      "Epoch 51/200\n",
      "\u001b[1m49/49\u001b[0m \u001b[32m━━━━━━━━━━━━━━━━━━━━\u001b[0m\u001b[37m\u001b[0m \u001b[1m1s\u001b[0m 15ms/step - accuracy: 0.9804 - loss: 0.0044 - val_accuracy: 0.9758 - val_loss: 0.0073 - learning_rate: 1.0000e-09\n",
      "Epoch 52/200\n",
      "\u001b[1m49/49\u001b[0m \u001b[32m━━━━━━━━━━━━━━━━━━━━\u001b[0m\u001b[37m\u001b[0m \u001b[1m1s\u001b[0m 14ms/step - accuracy: 0.9804 - loss: 0.0044 - val_accuracy: 0.9758 - val_loss: 0.0073 - learning_rate: 1.0000e-09\n",
      "Epoch 53/200\n",
      "\u001b[1m49/49\u001b[0m \u001b[32m━━━━━━━━━━━━━━━━━━━━\u001b[0m\u001b[37m\u001b[0m \u001b[1m1s\u001b[0m 14ms/step - accuracy: 0.9804 - loss: 0.0044 - val_accuracy: 0.9758 - val_loss: 0.0073 - learning_rate: 1.0000e-09\n",
      "Epoch 54/200\n",
      "\u001b[1m49/49\u001b[0m \u001b[32m━━━━━━━━━━━━━━━━━━━━\u001b[0m\u001b[37m\u001b[0m \u001b[1m1s\u001b[0m 15ms/step - accuracy: 0.9804 - loss: 0.0044 - val_accuracy: 0.9758 - val_loss: 0.0073 - learning_rate: 1.0000e-09\n",
      "Epoch 55/200\n",
      "\u001b[1m48/49\u001b[0m \u001b[32m━━━━━━━━━━━━━━━━━━━\u001b[0m\u001b[37m━\u001b[0m \u001b[1m0s\u001b[0m 13ms/step - accuracy: 0.9803 - loss: 0.0044\n",
      "Epoch 55: ReduceLROnPlateau reducing learning rate to 1.000000082740371e-10.\n",
      "\u001b[1m49/49\u001b[0m \u001b[32m━━━━━━━━━━━━━━━━━━━━\u001b[0m\u001b[37m\u001b[0m \u001b[1m1s\u001b[0m 14ms/step - accuracy: 0.9804 - loss: 0.0044 - val_accuracy: 0.9758 - val_loss: 0.0073 - learning_rate: 1.0000e-09\n",
      "Epoch 56/200\n",
      "\u001b[1m49/49\u001b[0m \u001b[32m━━━━━━━━━━━━━━━━━━━━\u001b[0m\u001b[37m\u001b[0m \u001b[1m1s\u001b[0m 15ms/step - accuracy: 0.9804 - loss: 0.0044 - val_accuracy: 0.9758 - val_loss: 0.0073 - learning_rate: 1.0000e-10\n",
      "Epoch 57/200\n",
      "\u001b[1m49/49\u001b[0m \u001b[32m━━━━━━━━━━━━━━━━━━━━\u001b[0m\u001b[37m\u001b[0m \u001b[1m1s\u001b[0m 15ms/step - accuracy: 0.9804 - loss: 0.0044 - val_accuracy: 0.9758 - val_loss: 0.0073 - learning_rate: 1.0000e-10\n",
      "Epoch 58/200\n",
      "\u001b[1m49/49\u001b[0m \u001b[32m━━━━━━━━━━━━━━━━━━━━\u001b[0m\u001b[37m\u001b[0m \u001b[1m1s\u001b[0m 15ms/step - accuracy: 0.9804 - loss: 0.0044 - val_accuracy: 0.9758 - val_loss: 0.0073 - learning_rate: 1.0000e-10\n",
      "Epoch 59/200\n",
      "\u001b[1m49/49\u001b[0m \u001b[32m━━━━━━━━━━━━━━━━━━━━\u001b[0m\u001b[37m\u001b[0m \u001b[1m1s\u001b[0m 14ms/step - accuracy: 0.9804 - loss: 0.0044 - val_accuracy: 0.9758 - val_loss: 0.0073 - learning_rate: 1.0000e-10\n",
      "Epoch 60/200\n",
      "\u001b[1m47/49\u001b[0m \u001b[32m━━━━━━━━━━━━━━━━━━━\u001b[0m\u001b[37m━\u001b[0m \u001b[1m0s\u001b[0m 13ms/step - accuracy: 0.9803 - loss: 0.0044\n",
      "Epoch 60: ReduceLROnPlateau reducing learning rate to 1.000000082740371e-11.\n",
      "\u001b[1m49/49\u001b[0m \u001b[32m━━━━━━━━━━━━━━━━━━━━\u001b[0m\u001b[37m\u001b[0m \u001b[1m1s\u001b[0m 15ms/step - accuracy: 0.9804 - loss: 0.0044 - val_accuracy: 0.9758 - val_loss: 0.0073 - learning_rate: 1.0000e-10\n",
      "Epoch 61/200\n",
      "\u001b[1m49/49\u001b[0m \u001b[32m━━━━━━━━━━━━━━━━━━━━\u001b[0m\u001b[37m\u001b[0m \u001b[1m1s\u001b[0m 15ms/step - accuracy: 0.9804 - loss: 0.0044 - val_accuracy: 0.9758 - val_loss: 0.0073 - learning_rate: 1.0000e-11\n",
      "Epoch 62/200\n",
      "\u001b[1m49/49\u001b[0m \u001b[32m━━━━━━━━━━━━━━━━━━━━\u001b[0m\u001b[37m\u001b[0m \u001b[1m1s\u001b[0m 15ms/step - accuracy: 0.9804 - loss: 0.0044 - val_accuracy: 0.9758 - val_loss: 0.0073 - learning_rate: 1.0000e-11\n",
      "Epoch 63/200\n",
      "\u001b[1m49/49\u001b[0m \u001b[32m━━━━━━━━━━━━━━━━━━━━\u001b[0m\u001b[37m\u001b[0m \u001b[1m1s\u001b[0m 14ms/step - accuracy: 0.9804 - loss: 0.0044 - val_accuracy: 0.9758 - val_loss: 0.0073 - learning_rate: 1.0000e-11\n",
      "Epoch 64/200\n",
      "\u001b[1m49/49\u001b[0m \u001b[32m━━━━━━━━━━━━━━━━━━━━\u001b[0m\u001b[37m\u001b[0m \u001b[1m1s\u001b[0m 14ms/step - accuracy: 0.9804 - loss: 0.0044 - val_accuracy: 0.9758 - val_loss: 0.0073 - learning_rate: 1.0000e-11\n",
      "Epoch 65/200\n",
      "\u001b[1m47/49\u001b[0m \u001b[32m━━━━━━━━━━━━━━━━━━━\u001b[0m\u001b[37m━\u001b[0m \u001b[1m0s\u001b[0m 14ms/step - accuracy: 0.9803 - loss: 0.0044\n",
      "Epoch 65: ReduceLROnPlateau reducing learning rate to 1.000000082740371e-12.\n",
      "\u001b[1m49/49\u001b[0m \u001b[32m━━━━━━━━━━━━━━━━━━━━\u001b[0m\u001b[37m\u001b[0m \u001b[1m1s\u001b[0m 15ms/step - accuracy: 0.9804 - loss: 0.0044 - val_accuracy: 0.9758 - val_loss: 0.0073 - learning_rate: 1.0000e-11\n",
      "Epoch 66/200\n",
      "\u001b[1m49/49\u001b[0m \u001b[32m━━━━━━━━━━━━━━━━━━━━\u001b[0m\u001b[37m\u001b[0m \u001b[1m1s\u001b[0m 15ms/step - accuracy: 0.9804 - loss: 0.0044 - val_accuracy: 0.9758 - val_loss: 0.0073 - learning_rate: 1.0000e-12\n",
      "Epoch 67/200\n",
      "\u001b[1m49/49\u001b[0m \u001b[32m━━━━━━━━━━━━━━━━━━━━\u001b[0m\u001b[37m\u001b[0m \u001b[1m1s\u001b[0m 14ms/step - accuracy: 0.9804 - loss: 0.0044 - val_accuracy: 0.9758 - val_loss: 0.0073 - learning_rate: 1.0000e-12\n",
      "Epoch 68/200\n",
      "\u001b[1m49/49\u001b[0m \u001b[32m━━━━━━━━━━━━━━━━━━━━\u001b[0m\u001b[37m\u001b[0m \u001b[1m1s\u001b[0m 14ms/step - accuracy: 0.9804 - loss: 0.0044 - val_accuracy: 0.9758 - val_loss: 0.0073 - learning_rate: 1.0000e-12\n",
      "Epoch 69/200\n",
      "\u001b[1m49/49\u001b[0m \u001b[32m━━━━━━━━━━━━━━━━━━━━\u001b[0m\u001b[37m\u001b[0m \u001b[1m1s\u001b[0m 14ms/step - accuracy: 0.9804 - loss: 0.0044 - val_accuracy: 0.9758 - val_loss: 0.0073 - learning_rate: 1.0000e-12\n",
      "Epoch 70/200\n",
      "\u001b[1m48/49\u001b[0m \u001b[32m━━━━━━━━━━━━━━━━━━━\u001b[0m\u001b[37m━\u001b[0m \u001b[1m0s\u001b[0m 13ms/step - accuracy: 0.9803 - loss: 0.0044\n",
      "Epoch 70: ReduceLROnPlateau reducing learning rate to 1.0000001044244145e-13.\n",
      "\u001b[1m49/49\u001b[0m \u001b[32m━━━━━━━━━━━━━━━━━━━━\u001b[0m\u001b[37m\u001b[0m \u001b[1m1s\u001b[0m 14ms/step - accuracy: 0.9804 - loss: 0.0044 - val_accuracy: 0.9758 - val_loss: 0.0073 - learning_rate: 1.0000e-12\n",
      "Epoch 71/200\n",
      "\u001b[1m49/49\u001b[0m \u001b[32m━━━━━━━━━━━━━━━━━━━━\u001b[0m\u001b[37m\u001b[0m \u001b[1m1s\u001b[0m 14ms/step - accuracy: 0.9804 - loss: 0.0044 - val_accuracy: 0.9758 - val_loss: 0.0073 - learning_rate: 1.0000e-13\n",
      "Epoch 72/200\n",
      "\u001b[1m49/49\u001b[0m \u001b[32m━━━━━━━━━━━━━━━━━━━━\u001b[0m\u001b[37m\u001b[0m \u001b[1m1s\u001b[0m 14ms/step - accuracy: 0.9804 - loss: 0.0044 - val_accuracy: 0.9758 - val_loss: 0.0073 - learning_rate: 1.0000e-13\n",
      "Epoch 73/200\n",
      "\u001b[1m49/49\u001b[0m \u001b[32m━━━━━━━━━━━━━━━━━━━━\u001b[0m\u001b[37m\u001b[0m \u001b[1m1s\u001b[0m 15ms/step - accuracy: 0.9804 - loss: 0.0044 - val_accuracy: 0.9758 - val_loss: 0.0073 - learning_rate: 1.0000e-13\n",
      "Epoch 74/200\n",
      "\u001b[1m49/49\u001b[0m \u001b[32m━━━━━━━━━━━━━━━━━━━━\u001b[0m\u001b[37m\u001b[0m \u001b[1m1s\u001b[0m 15ms/step - accuracy: 0.9804 - loss: 0.0044 - val_accuracy: 0.9758 - val_loss: 0.0073 - learning_rate: 1.0000e-13\n",
      "Epoch 75/200\n",
      "\u001b[1m46/49\u001b[0m \u001b[32m━━━━━━━━━━━━━━━━━━\u001b[0m\u001b[37m━━\u001b[0m \u001b[1m0s\u001b[0m 13ms/step - accuracy: 0.9802 - loss: 0.0044\n",
      "Epoch 75: ReduceLROnPlateau reducing learning rate to 1.0000001179769417e-14.\n",
      "\u001b[1m49/49\u001b[0m \u001b[32m━━━━━━━━━━━━━━━━━━━━\u001b[0m\u001b[37m\u001b[0m \u001b[1m1s\u001b[0m 14ms/step - accuracy: 0.9804 - loss: 0.0044 - val_accuracy: 0.9758 - val_loss: 0.0073 - learning_rate: 1.0000e-13\n",
      "Epoch 76/200\n",
      "\u001b[1m49/49\u001b[0m \u001b[32m━━━━━━━━━━━━━━━━━━━━\u001b[0m\u001b[37m\u001b[0m \u001b[1m1s\u001b[0m 15ms/step - accuracy: 0.9804 - loss: 0.0044 - val_accuracy: 0.9758 - val_loss: 0.0073 - learning_rate: 1.0000e-14\n",
      "Epoch 77/200\n",
      "\u001b[1m49/49\u001b[0m \u001b[32m━━━━━━━━━━━━━━━━━━━━\u001b[0m\u001b[37m\u001b[0m \u001b[1m1s\u001b[0m 15ms/step - accuracy: 0.9804 - loss: 0.0044 - val_accuracy: 0.9758 - val_loss: 0.0073 - learning_rate: 1.0000e-14\n"
     ]
    }
   ],
   "source": [
    "# Train the model\n",
    "history = model.fit(\n",
    "    x = X_train,\n",
    "    y = y_train,\n",
    "    batch_size = 32,\n",
    "    epochs = 200,\n",
    "    validation_data = (X_val, y_val),\n",
    "    callbacks = [\n",
    "        tf.keras.callbacks.EarlyStopping(\n",
    "            monitor='val_loss',\n",
    "            patience=25,\n",
    "            restore_best_weights=True\n",
    "        ),\n",
    "        tf.keras.callbacks.ReduceLROnPlateau(\n",
    "            monitor='val_loss',\n",
    "            factor=.1,\n",
    "            patience=5,\n",
    "            verbose=1\n",
    "        )\n",
    "    ]\n",
    ").history"
   ]
  },
  {
   "cell_type": "code",
   "execution_count": 25,
   "id": "60a486167c0fd2bf",
   "metadata": {
    "ExecuteTime": {
     "end_time": "2024-03-21T10:32:05.431237200Z",
     "start_time": "2024-03-21T10:32:05.152397Z"
    },
    "collapsed": false
   },
   "outputs": [
    {
     "data": {
      "image/png": "[encoded data removed]",
      "text/plain": [
       "<Figure size 1500x300 with 1 Axes>"
      ]
     },
     "metadata": {},
     "output_type": "display_data"
    },
    {
     "data": {
      "image/png": "[encoded data removed]",
      "text/plain": [
       "<Figure size 1500x300 with 1 Axes>"
      ]
     },
     "metadata": {},
     "output_type": "display_data"
    }
   ],
   "source": [
    "# Create and display plots for training and validation loss\n",
    "plt.figure(figsize=(15,3))\n",
    "plt.plot(history['loss'], label='Training Loss', color='grey', alpha=.8)\n",
    "plt.plot(history['val_loss'], label='Validation Loss', color='#fec100', alpha=.8)\n",
    "plt.title('Loss', fontsize=16)\n",
    "plt.legend(fontsize=13)\n",
    "plt.grid(alpha=.3)\n",
    "\n",
    "# Create and display plots for training and validation accuracy\n",
    "plt.figure(figsize=(15,3))\n",
    "plt.plot(history['accuracy'], label='Training Accuracy',color='grey' , alpha=.8)\n",
    "plt.plot(history['val_accuracy'], label='Validation Accuracy',color='#fec100', alpha=.8)\n",
    "plt.title('Accuracy', fontsize=16)\n",
    "plt.legend(fontsize=13)\n",
    "plt.grid(alpha=.3)\n",
    "plt.show()"
   ]
  },
  {
   "cell_type": "code",
   "execution_count": 26,
   "id": "4ccb094354b26918",
   "metadata": {
    "ExecuteTime": {
     "end_time": "2024-03-21T10:32:42.671001500Z",
     "start_time": "2024-03-21T10:32:42.394340400Z"
    },
    "collapsed": false
   },
   "outputs": [
    {
     "name": "stdout",
     "output_type": "stream",
     "text": [
      "\u001b[1m24/49\u001b[0m \u001b[32m━━━━━━━━━\u001b[0m\u001b[37m━━━━━━━━━━━\u001b[0m \u001b[1m0s\u001b[0m 4ms/step - accuracy: 0.9799 - loss: 0.0049"
     ]
    },
    {
     "name": "stdout",
     "output_type": "stream",
     "text": [
      "\u001b[1m49/49\u001b[0m \u001b[32m━━━━━━━━━━━━━━━━━━━━\u001b[0m\u001b[37m\u001b[0m \u001b[1m0s\u001b[0m 4ms/step - accuracy: 0.9808 - loss: 0.0047\n",
      "Accuracy of the model on Training Data is -  98.3116865158081\n",
      "\u001b[1m11/11\u001b[0m \u001b[32m━━━━━━━━━━━━━━━━━━━━\u001b[0m\u001b[37m\u001b[0m \u001b[1m0s\u001b[0m 5ms/step - accuracy: 0.9768 - loss: 0.0058 \n",
      "Accuracy of the model on Testing Data is -  97.57575988769531\n"
     ]
    }
   ],
   "source": [
    "print(\"Accuracy of the model on Training Data is - \" , model.evaluate(X_train,y_train)[1]*100)\n",
    "print(\"Accuracy of the model on Testing Data is - \" , model.evaluate(X_test,y_test)[1]*100)"
   ]
  },
  {
   "cell_type": "code",
   "execution_count": null,
   "id": "c81dd7c514107800",
   "metadata": {
    "collapsed": false
   },
   "outputs": [],
   "source": []
  }
 ],
 "metadata": {
  "kernelspec": {
   "display_name": "Python 3",
   "language": "python",
   "name": "python3"
  },
  "language_info": {
   "codemirror_mode": {
    "name": "ipython",
    "version": 3
   },
   "file_extension": ".py",
   "mimetype": "text/x-python",
   "name": "python",
   "nbconvert_exporter": "python",
   "pygments_lexer": "ipython3",
   "version": "3.10.12"
  }
 },
 "nbformat": 4,
 "nbformat_minor": 5
}
